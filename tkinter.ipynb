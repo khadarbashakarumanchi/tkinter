{
 "cells": [
  {
   "cell_type": "code",
   "execution_count": null,
   "metadata": {},
   "outputs": [],
   "source": [
    "from tkinter import * \n",
    "win = Tk() \n",
    "win.geometry(\"1200x300\") \n",
    "win.minsize(500,300)\n",
    "l1 = Label(text = \"my first pplication\")\n",
    "l1.pack()\n",
    "win.mainloop()"
   ]
  },
  {
   "cell_type": "code",
   "execution_count": 13,
   "metadata": {},
   "outputs": [],
   "source": [
    "from tkinter import * \n",
    "\n",
    "\n",
    "win = Tk() \n",
    "win.geometry(\"700x300\")\n",
    "photo = PhotoImage(file = r\"c:\\Users\\ured\\Downloads\\Daco_649505.png\")\n",
    "l1 = Label(win,image = photo) \n",
    "l1.pack()\n",
    "win.mainloop()"
   ]
  },
  {
   "cell_type": "code",
   "execution_count": 16,
   "metadata": {},
   "outputs": [],
   "source": [
    "#Attributes of label and pack \n",
    "from tkinter import * \n",
    "win = Tk()\n",
    "win.title(\"my application\") \n",
    "win.geometry(\"400x200\") \n",
    "win.minsize(300 , 200) \n",
    "label = Label(win, \n",
    "              text=\"Hello, Welcome!\",   # Label text\n",
    "              font=(\"Arial\", 16),       # Font style and size\n",
    "              bg=\"lightblue\",           # Background color\n",
    "              fg=\"black\")               # Foreground (text) color\n",
    "                                        # Padding inside the lab                  \n",
    "                                        ## Padding inside the label\n",
    "                   # Border style\n",
    "\n",
    "# Pack the Label with options\n",
    "label.pack(side=TOP,        # Pack the label at the top\n",
    "           padx=10,         # Horizontal padding outside the label\n",
    "           pady=10,         # Vertical padding outside the label\n",
    "           fill=X,          # Expand horizontally to fill available space\n",
    "           expand=True)     # Expand the widget to fill extra space if needed\n",
    "win.mainloop()"
   ]
  },
  {
   "cell_type": "code",
   "execution_count": 9,
   "metadata": {},
   "outputs": [],
   "source": [
    "#Attributes of label and pack  \n",
    "from tkinter import * \n",
    "win = Tk() \n",
    "win.title(\"my GUI\")\n",
    "win.geometry(\"500x200\")  \n",
    "#important label options\n",
    "#text-adds text , bg-background , fg - foreground , font - sents font , padx-padding , pady -padding , \n",
    "#relief - borderstyling - sunken , raised , groove , ridge \n",
    "#font = (\"Arial  10  bold\") no commas\n",
    "#pack otions \n",
    "#side = side , left , bottom , top fill , padx , pady\n",
    "\n",
    "title_label = Label(win , text= \"Generative AI (Gen AI) refers to artificial intelligence systems that can create new content, such as text, images, music, or even code.\\nIt does this by learning patterns from existing data and then generating similar content, like how ChatGPT generates responses or DALL·E creates images from text descriptions.\",\n",
    "                   bg= \"red\",\n",
    "                   font= (\"Arial 10 bold\"),\n",
    "                   borderwidth=5 , relief=SUNKEN\n",
    "                   \n",
    "                   ) \n",
    "\n",
    "title_label.pack(side= TOP ,anchor=\"se\" , fill= Y)\n",
    "win.mainloop()\n"
   ]
  },
  {
   "cell_type": "code",
   "execution_count": 26,
   "metadata": {},
   "outputs": [],
   "source": [
    "#frames in tkinter frame is like div \n",
    "\n",
    "from tkinter import * \n",
    "root = Tk() \n",
    "root.geometry(\"655x333\") \n",
    "f1 = Frame(root , bg = \"grey\" , borderwidth=7)\n",
    "f1.pack(side=LEFT , fill=\"y\" , padx = 122)\n",
    "f2 = Frame(root , borderwidth=8 , bg = \"grey\" , relief=SUNKEN )\n",
    "f2.pack(side=TOP , fill= \"x\")\n",
    "l1= Label(f1 , text = \"pycharm\")\n",
    "l1.pack()\n",
    "l2 = Label(f2 , text=\"welocme to sublime text\", font = (\"Helvetica\" , 16 , \"bold\") , fg = \"red\" , pady = 22)\n",
    "l2.pack(pady=14)\n",
    "root.mainloop() \n"
   ]
  },
  {
   "cell_type": "code",
   "execution_count": 7,
   "metadata": {},
   "outputs": [],
   "source": [
    "#packing buttons  \n",
    "\n",
    "from tkinter import * \n",
    "root = Tk() \n",
    "root.geometry(\"500x300\") \n",
    "def hello():\n",
    "    print(\"Hello tkinter\")\n",
    "\n",
    "\n",
    "root.title(\"my application\") \n",
    "frame = Frame(root , borderwidth=6 , bg = \"grey\", relief=SUNKEN )\n",
    "frame.pack(side = LEFT , anchor = \"nw\")\n",
    "btn1 = Button( frame , fg=\"red\", text= \"printnow\" ,command=\"hello\")\n",
    "btn1.pack(side=LEFT , padx=23)\n",
    "btn2 = Button( frame , fg=\"red\", text= \"printnow\" , command = \"hello\")\n",
    "btn2.pack(side=LEFT , padx=23)\n",
    "btn3 = Button( frame , fg=\"red\", text= \"printnow\")\n",
    "btn3.pack(side=LEFT , padx=23)\n",
    "btn4 = Button( frame , fg=\"red\", text= \"printnow\")\n",
    "btn4.pack(side=LEFT , padx=23)\n",
    "root.mainloop() \n"
   ]
  }
 ],
 "metadata": {
  "kernelspec": {
   "display_name": "Python 3",
   "language": "python",
   "name": "python3"
  },
  "language_info": {
   "codemirror_mode": {
    "name": "ipython",
    "version": 3
   },
   "file_extension": ".py",
   "mimetype": "text/x-python",
   "name": "python",
   "nbconvert_exporter": "python",
   "pygments_lexer": "ipython3",
   "version": "3.12.3"
  }
 },
 "nbformat": 4,
 "nbformat_minor": 2
}
