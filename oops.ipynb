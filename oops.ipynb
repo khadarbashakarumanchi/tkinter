{
 "cells": [
  {
   "cell_type": "code",
   "execution_count": 3,
   "metadata": {},
   "outputs": [
    {
     "name": "stdout",
     "output_type": "stream",
     "text": [
      "5\n"
     ]
    }
   ],
   "source": [
    "#here we re taking the index of left most value in an array and right most value in an aray \n",
    "#and caluculting the index of midle value\n",
    "arr = [1 , 6 , 7 , 3 , 33 , 44 , 5 , 8 , 22 , 44]\n",
    "k = 8 \n",
    "arr.sort() \n",
    "low = 0 \n",
    "high = len(arr) - 1 \n",
    "\n",
    "while low <= high:\n",
    "    mid = (low + high) //2 \n",
    "    \n",
    "    if arr[mid] == k:\n",
    "        print(mid) \n",
    "        break\n",
    "    elif arr[mid] < k:\n",
    "        low = mid + 1 \n",
    "    else:\n",
    "        high = mid - 1 \n",
    "        \n",
    "else:\n",
    "    print(-1)\n",
    "\n",
    "#mrsg , suno , gamma ,   mrsg"
   ]
  },
  {
   "cell_type": "code",
   "execution_count": 8,
   "metadata": {},
   "outputs": [
    {
     "name": "stdout",
     "output_type": "stream",
     "text": [
      "1\n"
     ]
    }
   ],
   "source": [
    "arr = [1 , 6 , 7 , 3 , 33 , 44 , 5 , 8 , 22 , 44]\n",
    "arr.sort() \n",
    "k = 3 \n",
    "r = -1\n",
    "for i in arr:\n",
    "    if i == k:\n",
    "        r = arr.index(k)\n",
    "        break\n",
    "print(r)"
   ]
  },
  {
   "cell_type": "code",
   "execution_count": 9,
   "metadata": {},
   "outputs": [
    {
     "name": "stdout",
     "output_type": "stream",
     "text": [
      "[1, 3, 5, 6, 7, 8, 22, 33, 44, 44]\n"
     ]
    }
   ],
   "source": [
    "arr = [1 , 6 , 7 , 3 , 33 , 44 , 5 , 8 , 22 , 44]\n",
    "l = len(arr)\n",
    "for i in range(0 , l):\n",
    "    for j in range(i+1 , l):\n",
    "        if arr[i] > arr[j]:\n",
    "            arr[i] , arr[j] = arr[j] , arr[i] \n",
    "            \n",
    "print(arr)"
   ]
  },
  {
   "cell_type": "code",
   "execution_count": 4,
   "metadata": {},
   "outputs": [
    {
     "name": "stdout",
     "output_type": "stream",
     "text": [
      "my name is bob age is 25\n"
     ]
    }
   ],
   "source": [
    "class Person:\n",
    "    def __init__(self , name , age , gender):\n",
    "        self.name = name \n",
    "        self.age = age \n",
    "        self.gender = gender \n",
    "    def introduce(self):\n",
    "        print(f\"my name is {self.name} age is {self.age}\") \n",
    "        \n",
    "        \n",
    "c1 = Person(\"bob\" , 25 , \"male\")\n",
    "c1.introduce()  \n",
    "\n",
    "\n",
    "    "
   ]
  },
  {
   "cell_type": "code",
   "execution_count": 6,
   "metadata": {},
   "outputs": [
    {
     "name": "stdout",
     "output_type": "stream",
     "text": [
      "42\n",
      "82\n"
     ]
    }
   ],
   "source": [
    "class Cuboid:\n",
    "    def __init__(self , length , width , height):\n",
    "        self.length = length \n",
    "        self.width = width \n",
    "        self.height = height \n",
    "    \n",
    "    def volume(self):\n",
    "        print(self.length*self.width*self.height) \n",
    "        \n",
    "    def surfacearea(self):\n",
    "        print(2*(self.length*self.width + self.width*self.height + self.height*self.length)) \n",
    "        \n",
    "c1 = Cuboid(2,3,7) \n",
    "c1.volume()\n",
    "c1.surfacearea()\n",
    "        \n"
   ]
  },
  {
   "cell_type": "code",
   "execution_count": 8,
   "metadata": {},
   "outputs": [
    {
     "name": "stdout",
     "output_type": "stream",
     "text": [
      "27\n"
     ]
    }
   ],
   "source": [
    "#Inheritance\n",
    "class Rectangle:\n",
    "    def __init__(self , length , breadth): \n",
    "        self.length = length \n",
    "        self.breadth = breadth \n",
    "        \n",
    "    def area(self):\n",
    "        return self.length*self.breadth \n",
    "    \n",
    "    def perimetere(self):\n",
    "        return (2*(self.length + self.breadth)) \n",
    "    \n",
    "    \n",
    "class Cuboid(Rectangle):\n",
    "    def __init__(self , length , breadth ,height):\n",
    "        self.height = height \n",
    "        super().__init__(length , breadth) \n",
    "    def volume(self):\n",
    "        return self.length*self.breadth*self.height \n",
    "    \n",
    "    \n",
    "    \n",
    "c1 = Cuboid(3 , 3 , 3) \n",
    "\n",
    "print(c1.volume())\n",
    "    "
   ]
  },
  {
   "cell_type": "code",
   "execution_count": null,
   "metadata": {},
   "outputs": [],
   "source": [
    "#method overloading and polymorphism \n",
    "class iphone():\n",
    "    def home(self):\n",
    "        print(\"home button is pressed\") \n",
    "class iphonex(iphone):\n",
    "    def home(self):\n",
    "        print(\"home button is touched\") \n",
    "        super().home() \n",
    "        \n",
    "        \n"
   ]
  },
  {
   "cell_type": "code",
   "execution_count": null,
   "metadata": {},
   "outputs": [],
   "source": [
    "from tkinter import * \n"
   ]
  }
 ],
 "metadata": {
  "kernelspec": {
   "display_name": "Python 3",
   "language": "python",
   "name": "python3"
  },
  "language_info": {
   "codemirror_mode": {
    "name": "ipython",
    "version": 3
   },
   "file_extension": ".py",
   "mimetype": "text/x-python",
   "name": "python",
   "nbconvert_exporter": "python",
   "pygments_lexer": "ipython3",
   "version": "3.12.3"
  }
 },
 "nbformat": 4,
 "nbformat_minor": 2
}
