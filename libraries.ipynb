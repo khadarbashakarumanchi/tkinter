{
 "cells": [
  {
   "cell_type": "code",
   "execution_count": 5,
   "metadata": {},
   "outputs": [
    {
     "name": "stdout",
     "output_type": "stream",
     "text": [
      "4\n"
     ]
    }
   ],
   "source": [
    "import random \n",
    "print(random.randint(1 , 10))"
   ]
  },
  {
   "cell_type": "code",
   "execution_count": 6,
   "metadata": {},
   "outputs": [
    {
     "name": "stdout",
     "output_type": "stream",
     "text": [
      "c:\\Users\\ured\\Desktop\\machinelearning\\myenv\\python\n"
     ]
    }
   ],
   "source": [
    "import os \n",
    "print(os.getcwd())"
   ]
  },
  {
   "cell_type": "code",
   "execution_count": null,
   "metadata": {},
   "outputs": [],
   "source": [
    "##data serialization \n",
    "import json \n",
    "dict_a = {\"name\":\"khadar\" , \"age\":25} \n",
    "json_str = json.dumps(dict_a) \n",
    "print(json_str) \n",
    "print(type(json_str))\n",
    "json.loads(json_str)"
   ]
  },
  {
   "cell_type": "code",
   "execution_count": null,
   "metadata": {},
   "outputs": [],
   "source": [
    "import csv\n",
    "\n",
    "# Writing to CSV\n",
    "with open(\"example.csv\", mode=\"w\", newline=\"\") as file:\n",
    "    writer = csv.writer(file)\n",
    "    writer.writerow([\"name\", \"age\"])\n",
    "    writer.writerow([\"John\", \"25\"])\n",
    "    writer.writerow([\"Anna\", \"30\"])\n",
    "\n",
    "# Reading from CSV\n",
    "with open(\"example.csv\", mode=\"r\", newline=\"\") as file:\n",
    "    reader = csv.reader(file)\n",
    "    for row in reader:\n",
    "        print(row)\n"
   ]
  },
  {
   "cell_type": "code",
   "execution_count": 2,
   "metadata": {},
   "outputs": [
    {
     "name": "stdout",
     "output_type": "stream",
     "text": [
      "2024-09-13 15:01:04.883548\n",
      "2024-09-12 15:01:04.883548\n"
     ]
    }
   ],
   "source": [
    "from datetime import datetime , timedelta \n",
    "now = datetime.now() \n",
    "print(now)\n",
    "\n",
    "yesterday = now - timedelta(days = 1) \n",
    "print(yesterday)"
   ]
  },
  {
   "cell_type": "code",
   "execution_count": 3,
   "metadata": {},
   "outputs": [
    {
     "name": "stdout",
     "output_type": "stream",
     "text": [
      "1726219987.5178034\n",
      "1726219989.5193594\n"
     ]
    }
   ],
   "source": [
    "import time \n",
    "print(time.time())  \n",
    "time.sleep(2) \n",
    "print(time.time())\n"
   ]
  },
  {
   "cell_type": "code",
   "execution_count": 4,
   "metadata": {},
   "outputs": [
    {
     "name": "stdout",
     "output_type": "stream",
     "text": [
      "123\n"
     ]
    }
   ],
   "source": [
    "import re \n",
    "pattern = r\"\\d+\"  \n",
    "text = \"there are 123 apples\" \n",
    "match = re.search(pattern , text) \n",
    "print(match.group())\n"
   ]
  },
  {
   "cell_type": "code",
   "execution_count": null,
   "metadata": {},
   "outputs": [],
   "source": [
    "#file handling \n",
    "\n",
    "with open(\"example.csv\" , \"r\") as file:\n",
    "    for line in file:\n",
    "        print(line.strip())"
   ]
  },
  {
   "cell_type": "code",
   "execution_count": 8,
   "metadata": {},
   "outputs": [],
   "source": [
    "#writing a file \n",
    "\n",
    "with open(\"example.csv\", \"w\" ) as file:\n",
    "    file.write(\"Hello world\\n\") \n",
    "    file.write(\"this is a newline\")"
   ]
  },
  {
   "cell_type": "code",
   "execution_count": 11,
   "metadata": {},
   "outputs": [],
   "source": [
    "#writing a file (with out over writing) \n",
    "with open(\"example.csv\" , \"a\") as file:\n",
    "    file.write(\"Append operation is taking place\")"
   ]
  },
  {
   "cell_type": "code",
   "execution_count": 3,
   "metadata": {},
   "outputs": [
    {
     "name": "stdout",
     "output_type": "stream",
     "text": [
      "ravi , 25 years old\n",
      "Person(name = ravi , age = 25)\n"
     ]
    }
   ],
   "source": [
    "#magic methods \n",
    "class Person:\n",
    "    def __init__(self , name , age ,gender):\n",
    "        self.name = name \n",
    "        self.age = age \n",
    "        self.gender = gender \n",
    "        \n",
    "    def __str__(self):\n",
    "        return f\"{self.name} , {self.age} years old\" \n",
    "    \n",
    "    def __repr__(self):\n",
    "        return f\"Person(name = {self.name} , age = {self.age})\"\n",
    "    \n",
    "\n",
    "\n",
    "c1 = Person(\"ravi\" , 25 , \"male\") \n",
    "print(c1) \n",
    "print(repr(c1))\n",
    "\"\"\"\n",
    "Magic methods in Python are special methods that have double underscores (__) before and after their names. These methods define the behavior of Python objects for specific operations. Some common ones include:\n",
    "\n",
    "__init__(self, ...): Initializes a new object.\n",
    "__str__(self): Returns a string representation.\n",
    "__len__(self): Defines behavior for the len() function.\n",
    "__add__(self, other): Defines addition with +.\n",
    "__getitem__(self, key): Retrieves items like in lists.\n",
    "Magic methods enable operator overloading and customization of object behavior.\n",
    "\"\"\""
   ]
  },
  {
   "cell_type": "code",
   "execution_count": 4,
   "metadata": {},
   "outputs": [
    {
     "name": "stdout",
     "output_type": "stream",
     "text": [
      "Vector6 , 8\n"
     ]
    }
   ],
   "source": [
    "#operator overloading \n",
    "\n",
    "class Vector:\n",
    "    def __init__(self,x,y):\n",
    "            self.x = x \n",
    "            self.y = y \n",
    "    def __add__(self , other):\n",
    "        return Vector(self.x + other.x , other.y + self.y)\n",
    "    def __sub__(self , other):\n",
    "        return Vector(self.x - other.x , other.y - self.y)\n",
    "    def __mul__(self , other):\n",
    "        return Vector(self.x * other.x , other.y * self.y) \n",
    "    def __repr__(self):\n",
    "        return f\"Vector{self.x} , {self.y}\" \n",
    "    \n",
    "\n",
    "v1 = Vector(2,3)\n",
    "v2 = Vector(4,5)\n",
    "print(v1 + v2)\n",
    "print(v1-v2)\n",
    "          "
   ]
  }
 ],
 "metadata": {
  "kernelspec": {
   "display_name": "myenv",
   "language": "python",
   "name": "python3"
  },
  "language_info": {
   "codemirror_mode": {
    "name": "ipython",
    "version": 3
   },
   "file_extension": ".py",
   "mimetype": "text/x-python",
   "name": "python",
   "nbconvert_exporter": "python",
   "pygments_lexer": "ipython3",
   "version": "3.12.3"
  }
 },
 "nbformat": 4,
 "nbformat_minor": 2
}
