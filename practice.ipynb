{
 "cells": [
  {
   "cell_type": "code",
   "execution_count": null,
   "metadata": {},
   "outputs": [],
   "source": [
    "a = 2 \n",
    "b = 4 \n",
    "print(a + b)"
   ]
  },
  {
   "cell_type": "code",
   "execution_count": null,
   "metadata": {},
   "outputs": [],
   "source": [
    "name = \"khadarbasha\"\n",
    "age = 24 \n",
    "gender = \"male\" \n",
    "city = \"giddalur\" \n",
    "district = \"prakasam\" \n",
    "print(name , age , gender)"
   ]
  },
  {
   "cell_type": "code",
   "execution_count": null,
   "metadata": {},
   "outputs": [],
   "source": [
    "#write a program to check even or not\n",
    "n = int(input()) \n",
    "if (n % 2) == 0:\n",
    "    print(\"n is a Even number\") \n",
    "else:\n",
    "    print(\"n is a odd number\")"
   ]
  },
  {
   "cell_type": "code",
   "execution_count": null,
   "metadata": {},
   "outputs": [],
   "source": [
    "#check for age eligibilty for casting vote\n",
    "person_age = int(input()) \n",
    "\n",
    "if person_age >= 18:\n",
    "    print(\"person i eligible for vote\") \n",
    "else:\n",
    "    print(\"person is not eligible for vote\")"
   ]
  },
  {
   "cell_type": "code",
   "execution_count": null,
   "metadata": {},
   "outputs": [],
   "source": [
    "#find the sum of given numbers as input 1 2 3 4 ...n using while condition \n",
    "n = int(input())\n",
    "sum = 0\n",
    "i = 1\n",
    "while i <=n:\n",
    "    sum = sum + i \n",
    "    i = i + 1\n",
    "print(sum)   "
   ]
  },
  {
   "cell_type": "code",
   "execution_count": null,
   "metadata": {},
   "outputs": [],
   "source": [
    "#check number whether given number is prime or not \n",
    "n = int(input()) \n",
    "f = 0 \n",
    "for i in range(2 , n):\n",
    "    if n % i == 0:\n",
    "        f = f + 1 \n",
    "        \n",
    "if f == 0:\n",
    "    print(\"Prime\") \n",
    "else:\n",
    "    print(\"Not Prime\")"
   ]
  },
  {
   "cell_type": "code",
   "execution_count": null,
   "metadata": {},
   "outputs": [],
   "source": [
    "#multiplication table \n",
    "n = int(input()) \n",
    "m = int(input())\n",
    "for i in range(1 , m + 1):\n",
    "    r = (str(n) + \"x\" +  str(i) + \"=\" +  str(n*i))\n",
    "    print(r)"
   ]
  },
  {
   "cell_type": "code",
   "execution_count": null,
   "metadata": {},
   "outputs": [],
   "source": [
    "role = input() \n",
    "\n",
    "if role == \"jhonsmith\" or role == \"peter\":\n",
    "    print(\"person is eligible for authorization\") \n",
    "else:\n",
    "    print(\"person is not eligible for authorization\")"
   ]
  },
  {
   "cell_type": "code",
   "execution_count": null,
   "metadata": {},
   "outputs": [],
   "source": [
    "string = \"AbCdEfGhi\" \n",
    "a = []\n",
    "b = []\n",
    "for i in string:\n",
    "    if i.isupper():\n",
    "        a.append(i) \n",
    "    else:\n",
    "        b.append(i) \n",
    "print(*a)\n",
    "print(*b)"
   ]
  },
  {
   "cell_type": "code",
   "execution_count": null,
   "metadata": {},
   "outputs": [],
   "source": [
    "date = input()\n",
    "day , month , year = date.split(\"/\")  \n",
    "print(day)\n",
    "print(month)\n",
    "print(year)\n"
   ]
  },
  {
   "cell_type": "code",
   "execution_count": null,
   "metadata": {},
   "outputs": [],
   "source": [
    "list_a = [1 , 2 , 3 , 4 , 5 , 6 , \"a\" , \"b\" , 4.5] \n",
    "n = int(input())\n",
    "first_ele = list_a[0] #first element of list \n",
    "print(first_ele)\n",
    "last_ele = list_a[-1] #last element of list \n",
    "print(last_ele)\n",
    "revere_list = list_a[::-1]  #reverse list \n",
    "print(revere_list) \n",
    "first_n_ele = list_a[:n] #slicing\n",
    "print(first_n_ele) \n",
    "last_n_ele = list_a[::-n] #slicing\n",
    "print(last_n_ele) \n",
    "\n",
    "\n"
   ]
  },
  {
   "cell_type": "code",
   "execution_count": null,
   "metadata": {},
   "outputs": [],
   "source": [
    "list_a = [1 , 2 , 3 ,4] \n",
    "list_b = [6,7 , 8 , 9 , 10] \n",
    "con_list = list_a + list_b\n",
    "print(con_list) \n",
    "rep_list = list_a*3 \n",
    "print(rep_list)"
   ]
  },
  {
   "cell_type": "code",
   "execution_count": null,
   "metadata": {},
   "outputs": [],
   "source": [
    "list_a = [\"5\" , 6 , 7 , 8 ] \n",
    "list_b = [\"1\" , 2 , 3 ,4 ] \n",
    "\n",
    "r = list(map(lambda x , y : x + y , list_a , list_b))\n",
    "print(*r)"
   ]
  },
  {
   "cell_type": "code",
   "execution_count": null,
   "metadata": {},
   "outputs": [],
   "source": [
    "#Remove duplicates from given list\n",
    "list_a =[\"A\",\"B\",\"C\",\"D\",\"E\",\"AB\",\"D\",\"Az\",\"B\",\"E\"] \n",
    "list_b = [] \n",
    "for i in list_a:\n",
    "    if i not in list_b:\n",
    "        list_b.append(i) \n",
    "\n",
    "print(*list_b)\n"
   ]
  },
  {
   "cell_type": "code",
   "execution_count": null,
   "metadata": {},
   "outputs": [],
   "source": [
    "#number of occurences of each item \n",
    "list_a =[\"A\",\"B\",\"C\",\"D\",\"E\",\"AB\",\"D\",\"Az\",\"B\",\"E\"] \n",
    "for i in set(list_a):\n",
    "    r = list_a.count(i) \n",
    "    print((i , r))"
   ]
  },
  {
   "cell_type": "code",
   "execution_count": null,
   "metadata": {},
   "outputs": [],
   "source": [
    "set_a = {1 ,2 , 3 , 4 , 5 }\n",
    "set_a.discard(11)\n",
    "set_a"
   ]
  },
  {
   "cell_type": "code",
   "execution_count": null,
   "metadata": {},
   "outputs": [],
   "source": [
    "#print value\n",
    "dicta_a = {\"jhon\":\"02/04/2015\" , \"peter\" : \"04/08/2013\" ,\"smith\" : \"06/09/2012\" } \n",
    "name = input()\n",
    "for k,v in dicta_a.items():\n",
    "    if k == name:\n",
    "        print(v)\n",
    "    "
   ]
  },
  {
   "cell_type": "code",
   "execution_count": null,
   "metadata": {},
   "outputs": [],
   "source": [
    "#update\n",
    "dict1 = {\"name\" :\"basha\" , \"age\":25} \n",
    "dict1[\"city\"] = \"hyderbad\" \n",
    "dict1"
   ]
  },
  {
   "cell_type": "code",
   "execution_count": null,
   "metadata": {},
   "outputs": [],
   "source": [
    "#deletion\n",
    "d = {}\n",
    "for i in range(1 , 11):\n",
    "    d[i] = i*2\n",
    "print(d)\n",
    "del(d[1])\n",
    "print(d)"
   ]
  },
  {
   "cell_type": "code",
   "execution_count": null,
   "metadata": {},
   "outputs": [],
   "source": [
    "#Remove duplicates \n",
    "list_a = [2 , 3 , 5 , 6 , 6 , 8 , 2 , 5]\n",
    "list_b = [] \n",
    "for i in list_a:\n",
    "    if i not in list_b:\n",
    "        list_b.append(i) \n",
    "print(*list_b)"
   ]
  },
  {
   "cell_type": "code",
   "execution_count": null,
   "metadata": {},
   "outputs": [],
   "source": [
    "\n",
    "countries = [\n",
    "    \"Argentina\", \"Brazil\", \"Canada\", \"Denmark\", \"Egypt\", \"France\", \"Germany\", \n",
    "    \"Hungary\", \"India\", \"Japan\", \"Kenya\", \"Luxembourg\", \"Mexico\", \"Netherlands\", \n",
    "    \"Oman\", \"Poland\", \"Qatar\", \"Russia\", \"Spain\", \"Turkey\", \"Ukraine\", \n",
    "    \"Venezuela\", \"Yemen\", \"Zimbabwe\"\n",
    "]\n",
    "country_dict = {}\n",
    "for country in countries:\n",
    "    first_letter = country[0].upper()  \n",
    "    if first_letter not in country_dict:\n",
    "        country_dict[first_letter] = country\n",
    "\n",
    "\n",
    "print(country_dict)\n"
   ]
  },
  {
   "cell_type": "code",
   "execution_count": null,
   "metadata": {},
   "outputs": [],
   "source": [
    "print(sorted(\"321\"))"
   ]
  },
  {
   "cell_type": "code",
   "execution_count": null,
   "metadata": {},
   "outputs": [],
   "source": [
    "list_a = [2 , 4 , 6 , 3 , 8 , 9] \n",
    "\n",
    "even = list(filter(lambda i : i % 2 == 0 , list_a))\n",
    "print(even)"
   ]
  },
  {
   "cell_type": "code",
   "execution_count": null,
   "metadata": {},
   "outputs": [],
   "source": [
    "n = int(input(\"enter a number\")) \n",
    "print(n)"
   ]
  },
  {
   "cell_type": "code",
   "execution_count": null,
   "metadata": {},
   "outputs": [],
   "source": [
    "#functions \n",
    "\n",
    "def add(x , y):\n",
    "    return x + y \n",
    "\n",
    "m = int(input())\n",
    "n = int(input())\n",
    "z = add(m , n)\n",
    "print(z)\n"
   ]
  },
  {
   "cell_type": "code",
   "execution_count": null,
   "metadata": {},
   "outputs": [],
   "source": [
    "#password\n",
    "import random \n",
    "letters = \"abcdefghijklmnopqrstuvwxyz\".upper() \n",
    "numbres = \"123456789\" \n",
    "sp = \"!@#$%^&*?\" \n",
    "all_char = letters + numbres + sp \n",
    "password = \"\".join(random.choice(all_char) for i in range(0 , 8))\n",
    "print(password)"
   ]
  },
  {
   "cell_type": "code",
   "execution_count": null,
   "metadata": {},
   "outputs": [],
   "source": [
    "#here when we call outer function innner function is executing\n",
    "def outer(x , y):\n",
    "    def inner(a , b):\n",
    "        return a + b\n",
    "    \n",
    "    return inner(x , y) \n",
    "\n",
    "result = outer(5 , 10) \n",
    "print(result)"
   ]
  },
  {
   "cell_type": "code",
   "execution_count": null,
   "metadata": {},
   "outputs": [],
   "source": [
    "#the code which causes error such type of stmts kept in try \n",
    "try:\n",
    "    r = 10//2\n",
    "except(ZeroDivisionError) as msg:\n",
    "    print(msg) \n",
    "else:\n",
    "    print(r)  #normal print stmts \n",
    "    \n",
    "#finally clean up process"
   ]
  },
  {
   "cell_type": "code",
   "execution_count": null,
   "metadata": {},
   "outputs": [],
   "source": [
    "def divide(a, b):\n",
    "    try:\n",
    "        result = a / b\n",
    "    except (ZeroDivisionError) as msg:\n",
    "        print(msg)\n",
    "    else:\n",
    "        print(result)\n",
    "    finally:\n",
    "        print(\"Division operation completed.\")\n",
    "\n",
    "divide(10, 2)\n",
    "\n",
    "\n",
    "divide(10, 0)\n"
   ]
  },
  {
   "cell_type": "code",
   "execution_count": null,
   "metadata": {},
   "outputs": [],
   "source": [
    "class NegativeAgeException(Exception):\n",
    "    pass\n",
    "\n",
    "def stage(age):\n",
    "    if age < 0:\n",
    "        raise NegativeAgeException(\"Age should not be negative\")\n",
    "    elif age <= 13:\n",
    "        print(\"Kid\")\n",
    "    elif age <= 20:\n",
    "        print(\"Teenager\")\n",
    "    elif age <= 46:\n",
    "        print(\"Young\")\n",
    "    else:\n",
    "        print(\"Old\")\n",
    "\n",
    "\n",
    "try:\n",
    "    age = int(input(\"Enter age: \"))\n",
    "    stage(age)\n",
    "except NegativeAgeException as msg:\n",
    "    print(msg)\n"
   ]
  },
  {
   "cell_type": "code",
   "execution_count": 13,
   "metadata": {},
   "outputs": [
    {
     "name": "stdout",
     "output_type": "stream",
     "text": [
      "New balance: 7000\n"
     ]
    }
   ],
   "source": [
    "class MinBalanceException(Exception):\n",
    "    pass\n",
    "\n",
    "def withdraw(balance, req_amount, min_balance=5000):\n",
    "    if balance - req_amount < min_balance:\n",
    "        raise MinBalanceException(f\"Cannot withdraw {req_amount}. Minimum balance of {min_balance} required.\")\n",
    "    return balance - req_amount\n",
    "\n",
    "try:\n",
    "    balance = 10000\n",
    "    #balance = withdraw(balance, 6000)  # Attempt to withdraw 6000\n",
    "    #print(f\"New balance: {balance}\")\n",
    "    \n",
    "    balance = withdraw(balance, 3000)  # Attempt to withdraw 3000\n",
    "    print(f\"New balance: {balance}\")\n",
    "\n",
    "except (MinBalanceException) as msg:\n",
    "    print(msg)\n"
   ]
  }
 ],
 "metadata": {
  "kernelspec": {
   "display_name": "Python 3",
   "language": "python",
   "name": "python3"
  },
  "language_info": {
   "codemirror_mode": {
    "name": "ipython",
    "version": 3
   },
   "file_extension": ".py",
   "mimetype": "text/x-python",
   "name": "python",
   "nbconvert_exporter": "python",
   "pygments_lexer": "ipython3",
   "version": "3.12.3"
  }
 },
 "nbformat": 4,
 "nbformat_minor": 2
}
